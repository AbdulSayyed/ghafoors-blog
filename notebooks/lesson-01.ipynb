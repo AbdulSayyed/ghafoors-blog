{
 "cells": [
  {
   "cell_type": "markdown",
   "metadata": {
    "editable": true,
    "slideshow": {
     "slide_type": ""
    },
    "tags": []
   },
   "source": [
    "## Guide lines for prompting\n",
    "\n",
    "\n",
    "Two prompts principles are used in this notebook to write `effictive` prompts for large language models.\n",
    "\n",
    "### Setting Up the environment\n",
    "\n",
    "1. Load api key and relevant python libraries.\n",
    "   \n",
    "```python\n",
    "import os\n",
    "\n",
    "from openai import OpenAI\n",
    "from dotenv import load_dotenv, find_dotenv\n",
    "\n",
    "_= load_dotenv(find_dotenv())\n",
    "\n",
    "client = OpenAI(api_key=os.environ.get(\"OPENAI_API_KEY\"))\n",
    "\n",
    "```\n"
   ]
  },
  {
   "cell_type": "code",
   "execution_count": 13,
   "metadata": {},
   "outputs": [],
   "source": [
    "# import openai\n",
    "import os\n",
    "\n",
    "from openai import OpenAI\n",
    "from dotenv import load_dotenv, find_dotenv\n",
    "\n",
    "_= load_dotenv(find_dotenv())\n",
    "\n",
    "# openai.api_key = os.getenv(\"OPENAI_API_KEY\")\n",
    "client = OpenAI(api_key=os.environ.get(\"OPENAI_API_KEY\"))"
   ]
  },
  {
   "cell_type": "markdown",
   "metadata": {},
   "source": [
    "\n",
    "- A helper function is created to get the model working\n",
    "\n",
    "```py\n",
    "def get_answer(prompt):\n",
    "    completion = client.chat.completions.create(\n",
    "        model=\"gpt-3.5-turbo\",\n",
    "        messages=[\n",
    "            {\"role\": \"user\", \"content\": prompt}\n",
    "        ]\n",
    "    )\n",
    "    return completion.choices[0].message.content\n",
    "\n",
    "```\n",
    "\n",
    "### Prompting principles\n",
    "\n",
    "1. Write clear and specfic prompt\n",
    "2. Give the model time to think\n",
    "   \n",
    "When writing prompt use delimiters to indiacate distinct part of the input, they can be anyting like `...`, `<....>`, `<tag>...</tag>`. "
   ]
  },
  {
   "cell_type": "code",
   "execution_count": 14,
   "metadata": {},
   "outputs": [],
   "source": [
    "def get_answer(prompt):\n",
    "    completion = client.chat.completions.create(\n",
    "        model=\"gpt-3.5-turbo\",\n",
    "        messages=[\n",
    "            {\"role\": \"user\", \"content\": prompt}\n",
    "        ]\n",
    "    )\n",
    "    return completion.choices[0].message.content"
   ]
  },
  {
   "cell_type": "markdown",
   "metadata": {},
   "source": [
    "### Preparing the promt to test\n",
    "\n",
    "# Paragraph with spelling mistakes\n",
    "\n",
    "paragraph_with_errors = \"\"\"\n",
    "Ths is a smple paragraf with severl speling erors. It is meant to test the abilty of the model to corect these mistkes.\n",
    "\"\"\"\n",
    "\n",
    "# Prepare the prompt\n",
    "\n",
    "prompt = f\"Please correct the spelling mistakes in the following paragraph:\\n\\n{paragraph_with_errors}\"\n",
    "\n",
    "\n",
    "- to run the above call the function by passing the prompt\n",
    "\n",
    "```py\n",
    "response = get_answer(prompt)\n",
    "print(response)\n",
    "```\n"
   ]
  },
  {
   "cell_type": "code",
   "execution_count": 15,
   "metadata": {},
   "outputs": [
    {
     "name": "stdout",
     "output_type": "stream",
     "text": [
      "This is a simple paragraph with several spelling errors. It is meant to test the ability of the model to correct these mistakes.\n"
     ]
    }
   ],
   "source": [
    "paragraph_with_errors = \"\"\"\n",
    "Ths is a smple paragraf with severl speling erors. It is meant to test the abilty of the model to corect these mistkes.\n",
    "\"\"\"\n",
    "\n",
    "# Prepare the prompt\n",
    "\n",
    "prompt = f\"Please correct the spelling mistakes in the following paragraph:\\n\\n{paragraph_with_errors}\"\n",
    "\n",
    "response = get_answer(prompt)\n",
    "print(response)"
   ]
  },
  {
   "cell_type": "code",
   "execution_count": null,
   "metadata": {},
   "outputs": [],
   "source": []
  }
 ],
 "metadata": {
  "kernelspec": {
   "display_name": "Python 3 (ipykernel)",
   "language": "python",
   "name": "python3"
  },
  "language_info": {
   "codemirror_mode": {
    "name": "ipython",
    "version": 3
   },
   "file_extension": ".py",
   "mimetype": "text/x-python",
   "name": "python",
   "nbconvert_exporter": "python",
   "pygments_lexer": "ipython3",
   "version": "3.11.10"
  }
 },
 "nbformat": 4,
 "nbformat_minor": 4
}
